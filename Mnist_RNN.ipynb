{
  "nbformat": 4,
  "nbformat_minor": 0,
  "metadata": {
    "colab": {
      "name": "Mnist_model_RNN.ipynb",
      "provenance": [],
      "collapsed_sections": [],
      "authorship_tag": "ABX9TyP8roF1r7VIk7lD8nvl9Sg3",
      "include_colab_link": true
    },
    "kernelspec": {
      "name": "python3",
      "display_name": "Python 3"
    },
    "language_info": {
      "name": "python"
    }
  },
  "cells": [
    {
      "cell_type": "markdown",
      "metadata": {
        "id": "view-in-github",
        "colab_type": "text"
      },
      "source": [
        "<a href=\"https://colab.research.google.com/github/jennychen0223/Mnist_models/blob/main/Mnist_model_RNN.ipynb\" target=\"_parent\"><img src=\"https://colab.research.google.com/assets/colab-badge.svg\" alt=\"Open In Colab\"/></a>"
      ]
    },
    {
      "cell_type": "code",
      "metadata": {
        "id": "bGUageLfGGXH"
      },
      "source": [
        "from keras.datasets import mnist\n",
        "import matplotlib.pyplot as plt\n"
      ],
      "execution_count": 1,
      "outputs": []
    },
    {
      "cell_type": "code",
      "metadata": {
        "colab": {
          "base_uri": "https://localhost:8080/"
        },
        "id": "kxsaHsVQFGYr",
        "outputId": "fff49afd-3c87-4733-f536-6c7c6e6d9579"
      },
      "source": [
        " (train_feature, train_label),(test_feature, test_label) = mnist.load_data()"
      ],
      "execution_count": 2,
      "outputs": [
        {
          "output_type": "stream",
          "text": [
            "Downloading data from https://storage.googleapis.com/tensorflow/tf-keras-datasets/mnist.npz\n",
            "11493376/11490434 [==============================] - 0s 0us/step\n",
            "11501568/11490434 [==============================] - 0s 0us/step\n"
          ],
          "name": "stdout"
        }
      ]
    },
    {
      "cell_type": "markdown",
      "metadata": {
        "id": "dWXvKDzMUj-7"
      },
      "source": [
        "Feature特徵轉換"
      ]
    },
    {
      "cell_type": "code",
      "metadata": {
        "id": "fMaQ4vNTJHjg"
      },
      "source": [
        "train_feature_vector = train_feature.reshape(len(train_feature), 28, 28).astype('float32')\n",
        "test_feature_vector = test_feature.reshape(len(test_feature), 28, 28).astype('float32')"
      ],
      "execution_count": 3,
      "outputs": []
    },
    {
      "cell_type": "code",
      "metadata": {
        "colab": {
          "base_uri": "https://localhost:8080/"
        },
        "id": "3iaeq_PvJgDp",
        "outputId": "1e78ba6c-9e70-485c-c858-d79ddb3622ab"
      },
      "source": [
        "print(train_feature_vector.shape, test_feature_vector.shape)"
      ],
      "execution_count": 4,
      "outputs": [
        {
          "output_type": "stream",
          "text": [
            "(60000, 28, 28) (10000, 28, 28)\n"
          ],
          "name": "stdout"
        }
      ]
    },
    {
      "cell_type": "code",
      "metadata": {
        "colab": {
          "base_uri": "https://localhost:8080/"
        },
        "id": "r717dQhwJoho",
        "outputId": "6eb86596-e1b4-4c03-ecd9-10b7202ad4da"
      },
      "source": [
        "train_feature_normalize = train_feature_vector/255\n",
        "test_feature_normalize = test_feature_vector/255\n",
        "\n",
        "print(train_feature_normalize[0])"
      ],
      "execution_count": 5,
      "outputs": [
        {
          "output_type": "stream",
          "text": [
            "[[0.         0.         0.         0.         0.         0.\n",
            "  0.         0.         0.         0.         0.         0.\n",
            "  0.         0.         0.         0.         0.         0.\n",
            "  0.         0.         0.         0.         0.         0.\n",
            "  0.         0.         0.         0.        ]\n",
            " [0.         0.         0.         0.         0.         0.\n",
            "  0.         0.         0.         0.         0.         0.\n",
            "  0.         0.         0.         0.         0.         0.\n",
            "  0.         0.         0.         0.         0.         0.\n",
            "  0.         0.         0.         0.        ]\n",
            " [0.         0.         0.         0.         0.         0.\n",
            "  0.         0.         0.         0.         0.         0.\n",
            "  0.         0.         0.         0.         0.         0.\n",
            "  0.         0.         0.         0.         0.         0.\n",
            "  0.         0.         0.         0.        ]\n",
            " [0.         0.         0.         0.         0.         0.\n",
            "  0.         0.         0.         0.         0.         0.\n",
            "  0.         0.         0.         0.         0.         0.\n",
            "  0.         0.         0.         0.         0.         0.\n",
            "  0.         0.         0.         0.        ]\n",
            " [0.         0.         0.         0.         0.         0.\n",
            "  0.         0.         0.         0.         0.         0.\n",
            "  0.         0.         0.         0.         0.         0.\n",
            "  0.         0.         0.         0.         0.         0.\n",
            "  0.         0.         0.         0.        ]\n",
            " [0.         0.         0.         0.         0.         0.\n",
            "  0.         0.         0.         0.         0.         0.\n",
            "  0.01176471 0.07058824 0.07058824 0.07058824 0.49411765 0.53333336\n",
            "  0.6862745  0.10196079 0.6509804  1.         0.96862745 0.49803922\n",
            "  0.         0.         0.         0.        ]\n",
            " [0.         0.         0.         0.         0.         0.\n",
            "  0.         0.         0.11764706 0.14117648 0.36862746 0.6039216\n",
            "  0.6666667  0.99215686 0.99215686 0.99215686 0.99215686 0.99215686\n",
            "  0.88235295 0.6745098  0.99215686 0.9490196  0.7647059  0.2509804\n",
            "  0.         0.         0.         0.        ]\n",
            " [0.         0.         0.         0.         0.         0.\n",
            "  0.         0.19215687 0.93333334 0.99215686 0.99215686 0.99215686\n",
            "  0.99215686 0.99215686 0.99215686 0.99215686 0.99215686 0.9843137\n",
            "  0.3647059  0.32156864 0.32156864 0.21960784 0.15294118 0.\n",
            "  0.         0.         0.         0.        ]\n",
            " [0.         0.         0.         0.         0.         0.\n",
            "  0.         0.07058824 0.85882354 0.99215686 0.99215686 0.99215686\n",
            "  0.99215686 0.99215686 0.7764706  0.7137255  0.96862745 0.94509804\n",
            "  0.         0.         0.         0.         0.         0.\n",
            "  0.         0.         0.         0.        ]\n",
            " [0.         0.         0.         0.         0.         0.\n",
            "  0.         0.         0.3137255  0.6117647  0.41960785 0.99215686\n",
            "  0.99215686 0.8039216  0.04313726 0.         0.16862746 0.6039216\n",
            "  0.         0.         0.         0.         0.         0.\n",
            "  0.         0.         0.         0.        ]\n",
            " [0.         0.         0.         0.         0.         0.\n",
            "  0.         0.         0.         0.05490196 0.00392157 0.6039216\n",
            "  0.99215686 0.3529412  0.         0.         0.         0.\n",
            "  0.         0.         0.         0.         0.         0.\n",
            "  0.         0.         0.         0.        ]\n",
            " [0.         0.         0.         0.         0.         0.\n",
            "  0.         0.         0.         0.         0.         0.54509807\n",
            "  0.99215686 0.74509805 0.00784314 0.         0.         0.\n",
            "  0.         0.         0.         0.         0.         0.\n",
            "  0.         0.         0.         0.        ]\n",
            " [0.         0.         0.         0.         0.         0.\n",
            "  0.         0.         0.         0.         0.         0.04313726\n",
            "  0.74509805 0.99215686 0.27450982 0.         0.         0.\n",
            "  0.         0.         0.         0.         0.         0.\n",
            "  0.         0.         0.         0.        ]\n",
            " [0.         0.         0.         0.         0.         0.\n",
            "  0.         0.         0.         0.         0.         0.\n",
            "  0.13725491 0.94509804 0.88235295 0.627451   0.42352942 0.00392157\n",
            "  0.         0.         0.         0.         0.         0.\n",
            "  0.         0.         0.         0.        ]\n",
            " [0.         0.         0.         0.         0.         0.\n",
            "  0.         0.         0.         0.         0.         0.\n",
            "  0.         0.31764707 0.9411765  0.99215686 0.99215686 0.46666667\n",
            "  0.09803922 0.         0.         0.         0.         0.\n",
            "  0.         0.         0.         0.        ]\n",
            " [0.         0.         0.         0.         0.         0.\n",
            "  0.         0.         0.         0.         0.         0.\n",
            "  0.         0.         0.1764706  0.7294118  0.99215686 0.99215686\n",
            "  0.5882353  0.10588235 0.         0.         0.         0.\n",
            "  0.         0.         0.         0.        ]\n",
            " [0.         0.         0.         0.         0.         0.\n",
            "  0.         0.         0.         0.         0.         0.\n",
            "  0.         0.         0.         0.0627451  0.3647059  0.9882353\n",
            "  0.99215686 0.73333335 0.         0.         0.         0.\n",
            "  0.         0.         0.         0.        ]\n",
            " [0.         0.         0.         0.         0.         0.\n",
            "  0.         0.         0.         0.         0.         0.\n",
            "  0.         0.         0.         0.         0.         0.9764706\n",
            "  0.99215686 0.9764706  0.2509804  0.         0.         0.\n",
            "  0.         0.         0.         0.        ]\n",
            " [0.         0.         0.         0.         0.         0.\n",
            "  0.         0.         0.         0.         0.         0.\n",
            "  0.         0.         0.18039216 0.50980395 0.7176471  0.99215686\n",
            "  0.99215686 0.8117647  0.00784314 0.         0.         0.\n",
            "  0.         0.         0.         0.        ]\n",
            " [0.         0.         0.         0.         0.         0.\n",
            "  0.         0.         0.         0.         0.         0.\n",
            "  0.15294118 0.5803922  0.8980392  0.99215686 0.99215686 0.99215686\n",
            "  0.98039216 0.7137255  0.         0.         0.         0.\n",
            "  0.         0.         0.         0.        ]\n",
            " [0.         0.         0.         0.         0.         0.\n",
            "  0.         0.         0.         0.         0.09411765 0.44705883\n",
            "  0.8666667  0.99215686 0.99215686 0.99215686 0.99215686 0.7882353\n",
            "  0.30588236 0.         0.         0.         0.         0.\n",
            "  0.         0.         0.         0.        ]\n",
            " [0.         0.         0.         0.         0.         0.\n",
            "  0.         0.         0.09019608 0.25882354 0.8352941  0.99215686\n",
            "  0.99215686 0.99215686 0.99215686 0.7764706  0.31764707 0.00784314\n",
            "  0.         0.         0.         0.         0.         0.\n",
            "  0.         0.         0.         0.        ]\n",
            " [0.         0.         0.         0.         0.         0.\n",
            "  0.07058824 0.67058825 0.85882354 0.99215686 0.99215686 0.99215686\n",
            "  0.99215686 0.7647059  0.3137255  0.03529412 0.         0.\n",
            "  0.         0.         0.         0.         0.         0.\n",
            "  0.         0.         0.         0.        ]\n",
            " [0.         0.         0.         0.         0.21568628 0.6745098\n",
            "  0.8862745  0.99215686 0.99215686 0.99215686 0.99215686 0.95686275\n",
            "  0.52156866 0.04313726 0.         0.         0.         0.\n",
            "  0.         0.         0.         0.         0.         0.\n",
            "  0.         0.         0.         0.        ]\n",
            " [0.         0.         0.         0.         0.53333336 0.99215686\n",
            "  0.99215686 0.99215686 0.83137256 0.5294118  0.5176471  0.0627451\n",
            "  0.         0.         0.         0.         0.         0.\n",
            "  0.         0.         0.         0.         0.         0.\n",
            "  0.         0.         0.         0.        ]\n",
            " [0.         0.         0.         0.         0.         0.\n",
            "  0.         0.         0.         0.         0.         0.\n",
            "  0.         0.         0.         0.         0.         0.\n",
            "  0.         0.         0.         0.         0.         0.\n",
            "  0.         0.         0.         0.        ]\n",
            " [0.         0.         0.         0.         0.         0.\n",
            "  0.         0.         0.         0.         0.         0.\n",
            "  0.         0.         0.         0.         0.         0.\n",
            "  0.         0.         0.         0.         0.         0.\n",
            "  0.         0.         0.         0.        ]\n",
            " [0.         0.         0.         0.         0.         0.\n",
            "  0.         0.         0.         0.         0.         0.\n",
            "  0.         0.         0.         0.         0.         0.\n",
            "  0.         0.         0.         0.         0.         0.\n",
            "  0.         0.         0.         0.        ]]\n"
          ],
          "name": "stdout"
        }
      ]
    },
    {
      "cell_type": "code",
      "metadata": {
        "colab": {
          "base_uri": "https://localhost:8080/"
        },
        "id": "rsdYsJNaKmDi",
        "outputId": "ef7d7c23-239d-4958-ca71-3471d155b1f3"
      },
      "source": [
        "!pip install np_utils\n",
        "from keras.utils import np_utils\n"
      ],
      "execution_count": 6,
      "outputs": [
        {
          "output_type": "stream",
          "text": [
            "Collecting np_utils\n",
            "  Downloading np_utils-0.5.12.1.tar.gz (61 kB)\n",
            "\u001b[?25l\r\u001b[K     |█████▍                          | 10 kB 20.9 MB/s eta 0:00:01\r\u001b[K     |██████████▊                     | 20 kB 10.3 MB/s eta 0:00:01\r\u001b[K     |████████████████                | 30 kB 8.3 MB/s eta 0:00:01\r\u001b[K     |█████████████████████▍          | 40 kB 7.6 MB/s eta 0:00:01\r\u001b[K     |██████████████████████████▊     | 51 kB 4.1 MB/s eta 0:00:01\r\u001b[K     |████████████████████████████████| 61 kB 2.8 MB/s \n",
            "\u001b[?25hRequirement already satisfied: numpy>=1.0 in /usr/local/lib/python3.7/dist-packages (from np_utils) (1.19.5)\n",
            "Requirement already satisfied: future>=0.16 in /usr/local/lib/python3.7/dist-packages (from np_utils) (0.16.0)\n",
            "Building wheels for collected packages: np-utils\n",
            "  Building wheel for np-utils (setup.py) ... \u001b[?25l\u001b[?25hdone\n",
            "  Created wheel for np-utils: filename=np_utils-0.5.12.1-py3-none-any.whl size=57132 sha256=7f234319b1568414d2473f458456c51afc37138409535a1b974c5bf536c802e0\n",
            "  Stored in directory: /root/.cache/pip/wheels/8c/4e/ef/095c24693723c329f4cdc1079861cdbb2487d4b41b2496a4e7\n",
            "Successfully built np-utils\n",
            "Installing collected packages: np-utils\n",
            "Successfully installed np-utils-0.5.12.1\n"
          ],
          "name": "stdout"
        }
      ]
    },
    {
      "cell_type": "code",
      "metadata": {
        "colab": {
          "base_uri": "https://localhost:8080/"
        },
        "id": "e48rGjRfJ3tu",
        "outputId": "e3ad4507-2dc7-4efc-f1e1-d6f648d77b81"
      },
      "source": [
        "train_label_onehot = np_utils.to_categorical(train_label)\n",
        "test_label_onehot = np_utils.to_categorical(test_label)\n",
        "\n",
        "print(train_label_onehot[0:5])"
      ],
      "execution_count": 7,
      "outputs": [
        {
          "output_type": "stream",
          "text": [
            "[[0. 0. 0. 0. 0. 1. 0. 0. 0. 0.]\n",
            " [1. 0. 0. 0. 0. 0. 0. 0. 0. 0.]\n",
            " [0. 0. 0. 0. 1. 0. 0. 0. 0. 0.]\n",
            " [0. 1. 0. 0. 0. 0. 0. 0. 0. 0.]\n",
            " [0. 0. 0. 0. 0. 0. 0. 0. 0. 1.]]\n"
          ],
          "name": "stdout"
        }
      ]
    },
    {
      "cell_type": "code",
      "metadata": {
        "id": "AhYlchUhKVJJ"
      },
      "source": [
        "from keras.models import Sequential\n",
        "from keras.layers import SimpleRNN, Dropout, Dense"
      ],
      "execution_count": 8,
      "outputs": []
    },
    {
      "cell_type": "code",
      "metadata": {
        "id": "ukQviiBvLK-E"
      },
      "source": [
        "model = Sequential()\n",
        "model.add(SimpleRNN(\n",
        "    input_shape = (28, 28),\n",
        "    units = 256,\n",
        "    unroll = True #計算時展開結構\n",
        "))"
      ],
      "execution_count": 11,
      "outputs": []
    },
    {
      "cell_type": "code",
      "metadata": {
        "id": "hcmYBkNpVqJY"
      },
      "source": [
        "model.add(Dropout(0.1))"
      ],
      "execution_count": 12,
      "outputs": []
    },
    {
      "cell_type": "code",
      "metadata": {
        "id": "nvrz6y55Qo7R"
      },
      "source": [
        "model.add(Dense(units = 10,\n",
        "                kernel_initializer = 'normal',\n",
        "                activation = 'softmax'))"
      ],
      "execution_count": 13,
      "outputs": []
    },
    {
      "cell_type": "code",
      "metadata": {
        "id": "SgJz3ntpQqR_"
      },
      "source": [
        "model.compile(loss = 'categorical_crossentropy',\n",
        "              optimizer = 'adam',\n",
        "              metrics = ['accuracy'])"
      ],
      "execution_count": 14,
      "outputs": []
    },
    {
      "cell_type": "code",
      "metadata": {
        "colab": {
          "base_uri": "https://localhost:8080/"
        },
        "id": "PxBb7rWAQ_Pc",
        "outputId": "59af6ebf-bb21-48c8-bfc1-93b34610ebc8"
      },
      "source": [
        "train_history = model.fit(x=train_feature_normalize,\n",
        "                          y=train_label_onehot,\n",
        "                          validation_split = 0.2,\n",
        "                          epochs = 10,\n",
        "                          batch_size = 200,\n",
        "                          verbose = 2)"
      ],
      "execution_count": 15,
      "outputs": [
        {
          "output_type": "stream",
          "text": [
            "Epoch 1/10\n",
            "240/240 - 45s - loss: 0.4463 - accuracy: 0.8668 - val_loss: 0.2573 - val_accuracy: 0.9201\n",
            "Epoch 2/10\n",
            "240/240 - 16s - loss: 0.2044 - accuracy: 0.9397 - val_loss: 0.1543 - val_accuracy: 0.9541\n",
            "Epoch 3/10\n",
            "240/240 - 16s - loss: 0.1561 - accuracy: 0.9540 - val_loss: 0.1329 - val_accuracy: 0.9622\n",
            "Epoch 4/10\n",
            "240/240 - 16s - loss: 0.1265 - accuracy: 0.9633 - val_loss: 0.1167 - val_accuracy: 0.9660\n",
            "Epoch 5/10\n",
            "240/240 - 16s - loss: 0.1127 - accuracy: 0.9675 - val_loss: 0.1075 - val_accuracy: 0.9682\n",
            "Epoch 6/10\n",
            "240/240 - 16s - loss: 0.1038 - accuracy: 0.9703 - val_loss: 0.0948 - val_accuracy: 0.9725\n",
            "Epoch 7/10\n",
            "240/240 - 16s - loss: 0.0923 - accuracy: 0.9725 - val_loss: 0.0919 - val_accuracy: 0.9740\n",
            "Epoch 8/10\n",
            "240/240 - 16s - loss: 0.0877 - accuracy: 0.9738 - val_loss: 0.0886 - val_accuracy: 0.9741\n",
            "Epoch 9/10\n",
            "240/240 - 16s - loss: 0.0771 - accuracy: 0.9774 - val_loss: 0.0991 - val_accuracy: 0.9707\n",
            "Epoch 10/10\n",
            "240/240 - 15s - loss: 0.0758 - accuracy: 0.9775 - val_loss: 0.0860 - val_accuracy: 0.9765\n"
          ],
          "name": "stdout"
        }
      ]
    },
    {
      "cell_type": "code",
      "metadata": {
        "colab": {
          "base_uri": "https://localhost:8080/"
        },
        "id": "rj7Q2JecRYGa",
        "outputId": "20d1eb66-f9da-44a2-f296-7de29f991563"
      },
      "source": [
        "scores = model.evaluate(test_feature_normalize, test_label_onehot)\n",
        "print('\\n 準確率=', scores[1])"
      ],
      "execution_count": 16,
      "outputs": [
        {
          "output_type": "stream",
          "text": [
            "313/313 [==============================] - 4s 6ms/step - loss: 0.0881 - accuracy: 0.9744\n",
            "\n",
            " 準確率= 0.974399983882904\n"
          ],
          "name": "stdout"
        }
      ]
    },
    {
      "cell_type": "code",
      "metadata": {
        "colab": {
          "base_uri": "https://localhost:8080/"
        },
        "id": "P57W1oFFR_me",
        "outputId": "97f5a2ca-df42-4847-cd80-d7bac79177a5"
      },
      "source": [
        "prediction = model.predict_classes(test_feature_normalize)"
      ],
      "execution_count": 17,
      "outputs": [
        {
          "output_type": "stream",
          "text": [
            "/usr/local/lib/python3.7/dist-packages/keras/engine/sequential.py:450: UserWarning: `model.predict_classes()` is deprecated and will be removed after 2021-01-01. Please use instead:* `np.argmax(model.predict(x), axis=-1)`,   if your model does multi-class classification   (e.g. if it uses a `softmax` last-layer activation).* `(model.predict(x) > 0.5).astype(\"int32\")`,   if your model does binary classification   (e.g. if it uses a `sigmoid` last-layer activation).\n",
            "  warnings.warn('`model.predict_classes()` is deprecated and '\n"
          ],
          "name": "stderr"
        }
      ]
    },
    {
      "cell_type": "code",
      "metadata": {
        "id": "9a1zToGXHYBZ"
      },
      "source": [
        "def show_images_labels_predictions(images, labels, predictions, start_id, num=10):\n",
        "  plt.gcf().set_size_inches(12, 14)\n",
        "  if num>25: num=25\n",
        "  for i in range(num):\n",
        "    ax = plt.subplot(5,5,i+1)\n",
        "    #顯示黑白圖片\n",
        "    ax.imshow(images[start_id], cmap = 'binary')\n",
        "\n",
        "    #有預測結果資料，才顯示結果\n",
        "    if (len(predictions) > 0):\n",
        "      title = 'ai = ' + str(predictions[i])\n",
        "      #預測正確顯示o / 預測正確顯示x\n",
        "      title += ('(o)' if predictions[i] == labels[i] else '(x)')\n",
        "      title += '\\nlabel = ' + str(labels[i])\n",
        "    #沒有預測結果，只在標題顯示真實數值\n",
        "    else:\n",
        "      title = 'label =' + str(labels[i])\n",
        "    #x, y軸不顯示刻度\n",
        "    ax.set_title(title, fontsize=12)\n",
        "    ax.set_xticks([]); ax.set_yticks([])\n",
        "    start_id += 1\n",
        "  plt.show()"
      ],
      "execution_count": 18,
      "outputs": []
    },
    {
      "cell_type": "code",
      "metadata": {
        "colab": {
          "base_uri": "https://localhost:8080/",
          "height": 338
        },
        "id": "PcI4mt-qSF86",
        "outputId": "e165beff-a023-476e-b401-0dd75b6cd328"
      },
      "source": [
        "show_images_labels_predictions(test_feature, test_label, prediction, 0)"
      ],
      "execution_count": 19,
      "outputs": [
        {
          "output_type": "display_data",
          "data": {
            "image/png": "[encoded data removed]",
            "text/plain": [
              "<Figure size 864x1008 with 10 Axes>"
            ]
          },
          "metadata": {
            "tags": []
          }
        }
      ]
    },
    {
      "cell_type": "code",
      "metadata": {
        "colab": {
          "base_uri": "https://localhost:8080/"
        },
        "id": "23pCagI3SVFh",
        "outputId": "fda676f5-5484-46c7-b021-9d6bf5bd7240"
      },
      "source": [
        "model.save('Mnist_model_RNN.h5')\n",
        "print(\"模型儲存完畢\")"
      ],
      "execution_count": 20,
      "outputs": [
        {
          "output_type": "stream",
          "text": [
            "模型儲存完畢\n"
          ],
          "name": "stdout"
        }
      ]
    }
  ]
}